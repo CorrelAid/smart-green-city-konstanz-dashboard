version https://git-lfs.github.com/spec/v1
oid sha256:bf37a56e1933395b9e89253ed48f0bd5620540bea5ccb2a2bbaa208591e5bf90
size 53620
